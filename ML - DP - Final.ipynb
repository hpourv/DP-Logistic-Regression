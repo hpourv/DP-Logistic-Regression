{
 "cells": [
  {
   "cell_type": "markdown",
   "id": "48b73072",
   "metadata": {},
   "source": [
    "## Differentially Private Logistic Regression Based on Noisy Gradient Descent"
   ]
  },
  {
   "cell_type": "markdown",
   "id": "b0a8b177",
   "metadata": {},
   "source": [
    "### Packages"
   ]
  },
  {
   "cell_type": "code",
   "execution_count": 1006,
   "id": "73e9d0b8",
   "metadata": {},
   "outputs": [],
   "source": [
    "import numpy as np\n",
    "import matplotlib.pyplot as plt\n",
    "from Func import *\n",
    "import copy\n",
    "import math\n",
    "from numpy import linalg as LA"
   ]
  },
  {
   "cell_type": "markdown",
   "id": "fae30dbe",
   "metadata": {},
   "source": [
    "### Load Training Data"
   ]
  },
  {
   "cell_type": "code",
   "execution_count": 1007,
   "id": "6e84cd92",
   "metadata": {},
   "outputs": [],
   "source": [
    "X_train, y_train = load_data(\"data\")\n",
    "m,n = X_train.shape"
   ]
  },
  {
   "cell_type": "markdown",
   "id": "598bf17c",
   "metadata": {},
   "source": [
    "### DP Parameters"
   ]
  },
  {
   "cell_type": "code",
   "execution_count": 1008,
   "id": "c99ee7ba",
   "metadata": {},
   "outputs": [],
   "source": [
    "l2norm=np.zeros(m)\n",
    "for i in range(m):\n",
    "    l2norm[i]=LA.norm(X_train[i],2)"
   ]
  },
  {
   "cell_type": "code",
   "execution_count": 1009,
   "id": "a67826b2",
   "metadata": {},
   "outputs": [
    {
     "data": {
      "text/plain": [
       "130.69430282869368"
      ]
     },
     "execution_count": 1009,
     "metadata": {},
     "output_type": "execute_result"
    }
   ],
   "source": [
    "G_MAX=np.amax(l2norm)\n",
    "G_MAX"
   ]
  },
  {
   "cell_type": "code",
   "execution_count": 1010,
   "id": "54e50920",
   "metadata": {},
   "outputs": [],
   "source": [
    "epsilon=1\n",
    "delta=0.00001\n",
    "T=1000\n",
    "sigma_w=(2*G_MAX/m)*np.sqrt(2*T*np.log(1/delta))*(1/epsilon)\n",
    "sigma_b=(2*1/m)*np.sqrt(2*T*np.log(1/delta))*(1/epsilon)\n",
    "mu=0"
   ]
  },
  {
   "cell_type": "markdown",
   "id": "0066d6dd",
   "metadata": {},
   "source": [
    "### Plot training data"
   ]
  },
  {
   "cell_type": "code",
   "execution_count": 1011,
   "id": "550a664e",
   "metadata": {},
   "outputs": [
    {
     "data": {
      "image/png": "[encoded data removed]",
      "text/plain": [
       "<Figure size 432x288 with 1 Axes>"
      ]
     },
     "metadata": {
      "needs_background": "light"
     },
     "output_type": "display_data"
    }
   ],
   "source": [
    "plot_data(X_train, y_train, pos_label=\"High Risk\", neg_label=\"Low Risk\")\n",
    "plt.ylabel('Medical Record2') \n",
    "plt.xlabel('Medical Record1') \n",
    "plt.legend(loc=\"upper right\")\n",
    "plt.show()"
   ]
  },
  {
   "cell_type": "markdown",
   "id": "f065b6c4",
   "metadata": {},
   "source": [
    "### Sigmoid Function"
   ]
  },
  {
   "cell_type": "code",
   "execution_count": 1012,
   "id": "d3661ebd",
   "metadata": {},
   "outputs": [],
   "source": [
    "def sigmoid(z):\n",
    "    g = 1/(1+np.exp(-z))\n",
    "    return g"
   ]
  },
  {
   "cell_type": "markdown",
   "id": "36fe48cf",
   "metadata": {},
   "source": [
    "### Cost Function"
   ]
  },
  {
   "cell_type": "code",
   "execution_count": 1013,
   "id": "1cdcd634",
   "metadata": {},
   "outputs": [],
   "source": [
    "def compute_cost(X, y, w, b, lambda_= 1):\n",
    "   \n",
    "    m,n = X_train.shape\n",
    "    loss_sum = 0\n",
    "    z_wb = 0\n",
    "\n",
    "    for i in range(m): \n",
    "        \n",
    "        z_wb = np.dot(X[i],w)\n",
    "        z_wb += b \n",
    "        f_wb= sigmoid(z_wb);\n",
    "        loss = -y[i] * np.log(f_wb) - (1 - y[i]) * np.log(1 - f_wb);\n",
    "        loss_sum += loss \n",
    "\n",
    "    total_cost = (1 / m) * loss_sum \n",
    "\n",
    "\n",
    "    return total_cost"
   ]
  },
  {
   "cell_type": "markdown",
   "id": "8e0ca999",
   "metadata": {},
   "source": [
    "### Compute Gradient"
   ]
  },
  {
   "cell_type": "code",
   "execution_count": 1014,
   "id": "6e62054a",
   "metadata": {},
   "outputs": [],
   "source": [
    "def compute_gradient(X, y, w, b, lambda_=None): \n",
    "   \n",
    "    m, n = X.shape\n",
    "    dj_dw = np.zeros(w.shape)\n",
    "    dj_db = 0\n",
    "    \n",
    "    for i in range(m):\n",
    "        z_wb = 0\n",
    " \n",
    "        for j in range(n):\n",
    "            z_wb_ij = w[j]*X[i][j];\n",
    "            z_wb += z_wb_ij\n",
    "            \n",
    "        z_wb += b\n",
    "        f_wb = sigmoid(z_wb);\n",
    "        dj_db_i = f_wb - y[i]\n",
    "        dj_db += dj_db_i\n",
    "        \n",
    "        \n",
    "        for j in range(n):\n",
    "            dj_dw_ij = (f_wb - y[i])* X[i][j]\n",
    "            dj_dw[j] += dj_dw_ij\n",
    "            \n",
    "    dj_dw = dj_dw / m+ np.random.normal(mu, sigma_w)/m\n",
    "    dj_db = dj_db / m+ np.random.normal(mu, sigma_b)/m\n",
    " \n",
    "    return dj_db, dj_dw\n"
   ]
  },
  {
   "cell_type": "markdown",
   "id": "1e029b33",
   "metadata": {},
   "source": [
    "### Gradient Descent"
   ]
  },
  {
   "cell_type": "code",
   "execution_count": 1015,
   "id": "535190da",
   "metadata": {},
   "outputs": [],
   "source": [
    "def gradient_descent(X, y, w_in, b_in, cost_function, gradient_function, alpha, num_iters, lambda_): \n",
    "    \n",
    "    m = len(X)\n",
    "   \n",
    "    J_history = []\n",
    "    w_history = []\n",
    "    \n",
    "    for i in range(num_iters):\n",
    "\n",
    "        dj_db, dj_dw = gradient_function(X, y, w_in, b_in, lambda_)   \n",
    "        w_in = w_in - alpha * dj_dw               \n",
    "        b_in = b_in - alpha * dj_db              \n",
    "       \n",
    "        if i<100000:     \n",
    "            cost =  cost_function(X, y, w_in, b_in, lambda_)\n",
    "            J_history.append(cost)\n",
    "\n",
    "        \n",
    "        if i% math.ceil(num_iters/10) == 0 or i == (num_iters-1):\n",
    "            w_history.append(w_in)\n",
    "            print(f\"Iteration {i:4}: Cost {float(J_history[-1]):8.2f}   \")\n",
    "\n",
    "        \n",
    "    return w_in, b_in, J_history, w_history "
   ]
  },
  {
   "cell_type": "markdown",
   "id": "db853aa7",
   "metadata": {},
   "source": [
    "### Learning The Parameters"
   ]
  },
  {
   "cell_type": "code",
   "execution_count": 1016,
   "id": "374526b3",
   "metadata": {},
   "outputs": [
    {
     "name": "stdout",
     "output_type": "stream",
     "text": [
      "Iteration    0: Cost     0.84   \n",
      "Iteration  100: Cost     0.31   \n",
      "Iteration  200: Cost     0.31   \n",
      "Iteration  300: Cost     0.32   \n",
      "Iteration  400: Cost     0.35   \n",
      "Iteration  500: Cost     0.31   \n",
      "Iteration  600: Cost     0.31   \n",
      "Iteration  700: Cost     0.31   \n",
      "Iteration  800: Cost     0.31   \n",
      "Iteration  900: Cost     0.31   \n",
      "Iteration  999: Cost     0.31   \n"
     ]
    }
   ],
   "source": [
    "np.random.seed(1)\n",
    "initial_w = 0.01 * (np.random.rand(2).reshape(-1,1) - 0.5)\n",
    "initial_b = -8\n",
    "\n",
    "iterations = T\n",
    "alpha = 0.001\n",
    "w,b, J_history,_ = gradient_descent(X_train ,y_train, initial_w, initial_b,compute_cost, compute_gradient, alpha, iterations, 0)"
   ]
  },
  {
   "cell_type": "code",
   "execution_count": 1017,
   "id": "c9c3f1e2",
   "metadata": {},
   "outputs": [
    {
     "data": {
      "text/plain": [
       "array([[0.06862752],\n",
       "       [0.06181485]])"
      ]
     },
     "execution_count": 1017,
     "metadata": {},
     "output_type": "execute_result"
    }
   ],
   "source": [
    "w"
   ]
  },
  {
   "cell_type": "code",
   "execution_count": 1018,
   "id": "5c7ebc37",
   "metadata": {},
   "outputs": [
    {
     "data": {
      "text/plain": [
       "array([-8.01815719])"
      ]
     },
     "execution_count": 1018,
     "metadata": {},
     "output_type": "execute_result"
    }
   ],
   "source": [
    "b"
   ]
  },
  {
   "cell_type": "markdown",
   "id": "afb3d95b",
   "metadata": {},
   "source": [
    "## Plot Decision Boundary"
   ]
  },
  {
   "cell_type": "code",
   "execution_count": 1019,
   "id": "2555f58c",
   "metadata": {},
   "outputs": [
    {
     "data": {
      "image/png": "[encoded data removed]",
      "text/plain": [
       "<Figure size 432x288 with 1 Axes>"
      ]
     },
     "metadata": {
      "needs_background": "light"
     },
     "output_type": "display_data"
    }
   ],
   "source": [
    "plot_data(X_train, y_train, pos_label=\"High Risk\", neg_label=\"Low Risk\")\n",
    "\n",
    "\n",
    "plt.ylabel('Medical Record2') \n",
    "\n",
    "plt.xlabel('Medical Record1') \n",
    "plt.legend(loc=\"upper right\")\n",
    "\n",
    "\n",
    "\n",
    "plt.title(\"(Iterations = 1000,  Train Accuracy:92%)\")\n",
    "\n",
    "plot_decision_boundary(w, b, X_train, y_train)\n",
    "\n",
    "#$\\epsilon$=10"
   ]
  },
  {
   "cell_type": "markdown",
   "id": "45ee4079",
   "metadata": {},
   "source": [
    "### Predict Function"
   ]
  },
  {
   "cell_type": "code",
   "execution_count": 1020,
   "id": "74a14094",
   "metadata": {},
   "outputs": [],
   "source": [
    "def predict(X, w, b): \n",
    "    \n",
    "   \n",
    "    m, n = X.shape   \n",
    "    p = np.zeros(m)\n",
    "   \n",
    "    for i in range(m):   \n",
    "        z_wb = 0\n",
    "    \n",
    "        for j in range(n): \n",
    "            z_wb_ij = w[j]*X[i][j]\n",
    "        \n",
    "            \n",
    "            z_wb += z_wb_ij\n",
    "        \n",
    "     \n",
    "        z_wb += b\n",
    "        \n",
    "        \n",
    "        f_wb = sigmoid(z_wb)\n",
    "\n",
    "       \n",
    "        p[i] = f_wb >= 0.5\n",
    "        \n",
    " \n",
    "    return p"
   ]
  },
  {
   "cell_type": "markdown",
   "id": "a205d9ed",
   "metadata": {},
   "source": [
    "### Copute Accuracy"
   ]
  },
  {
   "cell_type": "code",
   "execution_count": 1021,
   "id": "688f3ac2",
   "metadata": {},
   "outputs": [
    {
     "name": "stdout",
     "output_type": "stream",
     "text": [
      "Train Accuracy: 90.000000\n"
     ]
    }
   ],
   "source": [
    "\n",
    "p = predict(X_train, w,b)\n",
    "print('Train Accuracy: %f'%(np.mean(p == y_train) * 100))"
   ]
  },
  {
   "cell_type": "code",
   "execution_count": 1022,
   "id": "17098e00",
   "metadata": {},
   "outputs": [
    {
     "data": {
      "text/plain": [
       "[<matplotlib.lines.Line2D at 0x1da7fb5f370>]"
      ]
     },
     "execution_count": 1022,
     "metadata": {},
     "output_type": "execute_result"
    },
    {
     "data": {
      "image/png": "[encoded data removed]",
      "text/plain": [
       "<Figure size 432x288 with 1 Axes>"
      ]
     },
     "metadata": {
      "needs_background": "light"
     },
     "output_type": "display_data"
    }
   ],
   "source": [
    "itr=range(T)\n",
    "plt.ylabel('Cost') \n",
    "plt.xlabel('Iteration') \n",
    "plt.title(\"(Iterations: 1000,$\\epsilon$ =10, Train Accuracy: 92%)\")\n",
    "plt.plot(itr,J_history) "
   ]
  },
  {
   "cell_type": "markdown",
   "id": "c99169f6",
   "metadata": {},
   "source": [
    "### Application"
   ]
  },
  {
   "cell_type": "code",
   "execution_count": 1023,
   "id": "1d077949",
   "metadata": {},
   "outputs": [
    {
     "data": {
      "text/plain": [
       "array([1.])"
      ]
     },
     "execution_count": 1023,
     "metadata": {},
     "output_type": "execute_result"
    }
   ],
   "source": [
    "X=np.array([[60,80]])\n",
    "predict(X,w,b)"
   ]
  }
 ],
 "metadata": {
  "kernelspec": {
   "display_name": "Python 3 (ipykernel)",
   "language": "python",
   "name": "python3"
  },
  "language_info": {
   "codemirror_mode": {
    "name": "ipython",
    "version": 3
   },
   "file_extension": ".py",
   "mimetype": "text/x-python",
   "name": "python",
   "nbconvert_exporter": "python",
   "pygments_lexer": "ipython3",
   "version": "3.10.5"
  }
 },
 "nbformat": 4,
 "nbformat_minor": 5
}
