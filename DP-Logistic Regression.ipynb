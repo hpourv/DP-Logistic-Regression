{
 "cells": [
  {
   "cell_type": "markdown",
   "id": "48b73072",
   "metadata": {},
   "source": [
    "## Differentially Private Logistic Regression "
   ]
  },
  {
   "cell_type": "markdown",
   "id": "b0a8b177",
   "metadata": {},
   "source": [
    "### Packages"
   ]
  },
  {
   "cell_type": "code",
   "execution_count": 3,
   "id": "73e9d0b8",
   "metadata": {},
   "outputs": [],
   "source": [
    "import numpy as np\n",
    "import matplotlib.pyplot as plt\n",
    "from Func import *\n",
    "import copy\n",
    "import math"
   ]
  },
  {
   "cell_type": "markdown",
   "id": "fae30dbe",
   "metadata": {},
   "source": [
    "### Load Training Data"
   ]
  },
  {
   "cell_type": "code",
   "execution_count": 4,
   "id": "6e84cd92",
   "metadata": {},
   "outputs": [],
   "source": [
    "X_train, y_train = load_data(\"400.csv\")\n",
    "m,n = X_train.shape"
   ]
  },
  {
   "cell_type": "markdown",
   "id": "598bf17c",
   "metadata": {},
   "source": [
    "### DP Parameters"
   ]
  },
  {
   "cell_type": "code",
   "execution_count": 5,
   "id": "429119f0",
   "metadata": {},
   "outputs": [],
   "source": [
    "G=np.zeros(n)\n",
    "for i in range(n):\n",
    "    G[i]=np.amax(X_train[:,i])"
   ]
  },
  {
   "cell_type": "code",
   "execution_count": 6,
   "id": "16d98b61",
   "metadata": {},
   "outputs": [],
   "source": [
    "G=np.zeros(m)\n",
    "for i in range(0,399):\n",
    "    G[i]=np.sqrt(X_train[i,0]**2+X_train[i,1]**2)\n",
    "G_MAX=max(G)"
   ]
  },
  {
   "cell_type": "code",
   "execution_count": 7,
   "id": "54e50920",
   "metadata": {},
   "outputs": [],
   "source": [
    "epsilon=1\n",
    "delta=0.00001\n",
    "T=2500\n",
    "sigma_w=(2*G_MAX/m)*np.sqrt(2*T*np.log(1/delta))*(1/epsilon)\n",
    "sigma_b=(2*1/m)*np.sqrt(2*T*np.log(1/delta))*(1/epsilon)\n",
    "mu=0"
   ]
  },
  {
   "cell_type": "markdown",
   "id": "0066d6dd",
   "metadata": {},
   "source": [
    "### Plot training data"
   ]
  },
  {
   "cell_type": "code",
   "execution_count": 8,
   "id": "550a664e",
   "metadata": {},
   "outputs": [
    {
     "data": {
      "image/png": "[encoded data removed]",
      "text/plain": [
       "<Figure size 432x288 with 1 Axes>"
      ]
     },
     "metadata": {
      "needs_background": "light"
     },
     "output_type": "display_data"
    }
   ],
   "source": [
    "plot_data(X_train, y_train, pos_label=\"High Risk\", neg_label=\"Low Risk\")\n",
    "plt.ylabel('Feature2') \n",
    "plt.xlabel('Feature1') \n",
    "plt.legend(loc=\"upper right\")\n",
    "plt.title(\"(No Privacy, Train Accuracy: 40%)\")\n",
    "plt.show()"
   ]
  },
  {
   "cell_type": "markdown",
   "id": "f065b6c4",
   "metadata": {},
   "source": [
    "### Sigmoid Function"
   ]
  },
  {
   "cell_type": "code",
   "execution_count": 9,
   "id": "d3661ebd",
   "metadata": {},
   "outputs": [],
   "source": [
    "def sigmoid(z):\n",
    "    g = 1/(1+np.exp(-z))\n",
    "    return g"
   ]
  },
  {
   "cell_type": "markdown",
   "id": "36fe48cf",
   "metadata": {},
   "source": [
    "### Cost Function"
   ]
  },
  {
   "cell_type": "code",
   "execution_count": 10,
   "id": "1cdcd634",
   "metadata": {},
   "outputs": [],
   "source": [
    "def compute_cost(X, y, w, b, lambda_= 1):\n",
    "   \n",
    "    m,n = X_train.shape\n",
    "    loss_sum = 0\n",
    "    z_wb = 0\n",
    "\n",
    "    for i in range(m): \n",
    "        \n",
    "        z_wb = np.dot(X[i],w)\n",
    "        z_wb += b \n",
    "        f_wb= sigmoid(z_wb);\n",
    "        loss = -y[i] * np.log(f_wb+2.71**-20) - (1 - y[i]) * np.log(1 - (f_wb+2.71**-20));\n",
    "        loss_sum += loss \n",
    "\n",
    "    total_cost = (1 / m) * loss_sum \n",
    "\n",
    "\n",
    "    return total_cost"
   ]
  },
  {
   "cell_type": "markdown",
   "id": "8e0ca999",
   "metadata": {},
   "source": [
    "### Compute Gradient"
   ]
  },
  {
   "cell_type": "code",
   "execution_count": 11,
   "id": "6e62054a",
   "metadata": {},
   "outputs": [],
   "source": [
    "def compute_gradient(X, y, w, b, lambda_=None): \n",
    "   \n",
    "    m, n = X.shape\n",
    "    dj_dw = np.zeros(w.shape)\n",
    "    dj_db = 0\n",
    "    \n",
    "    for i in range(m):\n",
    "        z_wb = 0\n",
    " \n",
    "        for j in range(n):\n",
    "            z_wb_ij = w[j]*X[i][j];\n",
    "            z_wb += z_wb_ij\n",
    "            \n",
    "        z_wb += b\n",
    "        f_wb = sigmoid(z_wb);\n",
    "        dj_db_i = f_wb - y[i]\n",
    "        dj_db += dj_db_i\n",
    "        \n",
    "        \n",
    "        for j in range(n):\n",
    "            dj_dw_ij = (f_wb - y[i])* X[i][j]\n",
    "            dj_dw[j] += dj_dw_ij\n",
    "            \n",
    "    dj_dw = dj_dw / m+ np.random.normal(mu, sigma_w)\n",
    "    dj_db = dj_db / m+ np.random.normal(mu, sigma_b)\n",
    " \n",
    "    return dj_db, dj_dw\n"
   ]
  },
  {
   "cell_type": "markdown",
   "id": "1e029b33",
   "metadata": {},
   "source": [
    "### Gradient Descent"
   ]
  },
  {
   "cell_type": "code",
   "execution_count": 12,
   "id": "535190da",
   "metadata": {},
   "outputs": [],
   "source": [
    "def gradient_descent(X, y, w_in, b_in, cost_function, gradient_function, alpha, num_iters, lambda_): \n",
    "    \n",
    "    m = len(X)\n",
    "   \n",
    "    J_history = []\n",
    "    w_history = []\n",
    "    \n",
    "    for i in range(num_iters):\n",
    "\n",
    "        dj_db, dj_dw = gradient_function(X, y, w_in, b_in, lambda_)   \n",
    "        w_in = w_in - alpha * dj_dw               \n",
    "        b_in = b_in - alpha * dj_db              \n",
    "       \n",
    "        if i<100000:     \n",
    "            cost =  cost_function(X, y, w_in, b_in, lambda_)\n",
    "            J_history.append(cost)\n",
    "\n",
    "        \n",
    "        if i% math.ceil(num_iters/10) == 0 or i == (num_iters-1):\n",
    "            w_history.append(w_in)\n",
    "            print(f\"Iteration {i:4}: Cost {float(J_history[-1]):8.2f}   \")\n",
    "\n",
    "        \n",
    "    return w_in, b_in, J_history, w_history "
   ]
  },
  {
   "cell_type": "code",
   "execution_count": 13,
   "id": "36a16b85",
   "metadata": {},
   "outputs": [
    {
     "data": {
      "text/plain": [
       "(2, 1)"
      ]
     },
     "execution_count": 13,
     "metadata": {},
     "output_type": "execute_result"
    }
   ],
   "source": [
    "initial_w =np.array([[2.22468139],[0.19068489]])\n",
    "initial_w.shape\n"
   ]
  },
  {
   "cell_type": "markdown",
   "id": "db853aa7",
   "metadata": {},
   "source": [
    "### Learning The Parameters"
   ]
  },
  {
   "cell_type": "code",
   "execution_count": 14,
   "id": "374526b3",
   "metadata": {
    "scrolled": true
   },
   "outputs": [
    {
     "name": "stdout",
     "output_type": "stream",
     "text": [
      "Iteration    0: Cost     3.98   \n",
      "Iteration  250: Cost     3.83   \n",
      "Iteration  500: Cost     3.66   \n",
      "Iteration  750: Cost     3.76   \n",
      "Iteration 1000: Cost     3.15   \n",
      "Iteration 1250: Cost     2.50   \n",
      "Iteration 1500: Cost     1.96   \n",
      "Iteration 1750: Cost     1.63   \n",
      "Iteration 2000: Cost     1.50   \n",
      "Iteration 2250: Cost     1.35   \n",
      "Iteration 2499: Cost     1.46   \n"
     ]
    }
   ],
   "source": [
    "np.random.seed(1)\n",
    "initial_w = 0.01 * (np.random.rand(2).reshape(-1,1) - 0.5)\n",
    "initial_b = -8\n",
    "iterations = T\n",
    "alpha = 0.001\n",
    "w,b, J_history,_ = gradient_descent(X_train ,y_train, initial_w, initial_b,compute_cost, compute_gradient, alpha, iterations, 0)"
   ]
  },
  {
   "cell_type": "markdown",
   "id": "afb3d95b",
   "metadata": {},
   "source": [
    "## Plot Decision Boundary"
   ]
  },
  {
   "cell_type": "code",
   "execution_count": 15,
   "id": "2555f58c",
   "metadata": {},
   "outputs": [
    {
     "data": {
      "image/png": "[encoded data removed]",
      "text/plain": [
       "<Figure size 432x288 with 1 Axes>"
      ]
     },
     "metadata": {
      "needs_background": "light"
     },
     "output_type": "display_data"
    }
   ],
   "source": [
    "plot_data(X_train, y_train, pos_label=\"High Risk\", neg_label=\"Low Risk\")\n",
    "\n",
    "\n",
    "plt.ylabel('Medical Feature2') \n",
    "\n",
    "plt.xlabel('Medical Feature1') \n",
    "plt.legend(loc=\"upper right\")\n",
    "\n",
    "\n",
    "\n",
    "plt.title(\"Pre - Trained, $\\epsilon$ = 1, Training Accuracy: 70.50%\")\n",
    "\n",
    "plot_decision_boundary(w, b, X_train, y_train)\n",
    "\n"
   ]
  },
  {
   "cell_type": "markdown",
   "id": "45ee4079",
   "metadata": {},
   "source": [
    "### Predict Function"
   ]
  },
  {
   "cell_type": "code",
   "execution_count": 16,
   "id": "74a14094",
   "metadata": {},
   "outputs": [],
   "source": [
    "def predict(X, w, b): \n",
    "    \n",
    "   \n",
    "    m, n = X.shape   \n",
    "    p = np.zeros(m)\n",
    "   \n",
    "    for i in range(m):   \n",
    "        z_wb = 0\n",
    "    \n",
    "        for j in range(n): \n",
    "            z_wb_ij = w[j]*X[i][j]\n",
    "        \n",
    "            \n",
    "            z_wb += z_wb_ij\n",
    "        \n",
    "     \n",
    "        z_wb += b\n",
    "        \n",
    "        \n",
    "        f_wb = sigmoid(z_wb)\n",
    "\n",
    "       \n",
    "        p[i] = f_wb >= 0.5\n",
    "        \n",
    " \n",
    "    return p"
   ]
  },
  {
   "cell_type": "markdown",
   "id": "a205d9ed",
   "metadata": {},
   "source": [
    "### Copute Accuracy"
   ]
  },
  {
   "cell_type": "code",
   "execution_count": 17,
   "id": "688f3ac2",
   "metadata": {},
   "outputs": [
    {
     "name": "stdout",
     "output_type": "stream",
     "text": [
      "Train Accuracy: 54.500000\n"
     ]
    }
   ],
   "source": [
    "p = predict(X_train, w,b)\n",
    "print('Train Accuracy: %f'%(np.mean(p == y_train) * 100))"
   ]
  },
  {
   "cell_type": "markdown",
   "id": "db7a07a4",
   "metadata": {},
   "source": [
    "### Loss VS Iterartion"
   ]
  },
  {
   "cell_type": "code",
   "execution_count": 18,
   "id": "d6f66fdb",
   "metadata": {},
   "outputs": [
    {
     "data": {
      "text/plain": [
       "[<matplotlib.lines.Line2D at 0x1989111ee30>]"
      ]
     },
     "execution_count": 18,
     "metadata": {},
     "output_type": "execute_result"
    },
    {
     "data": {
      "image/png": "[encoded data removed]",
      "text/plain": [
       "<Figure size 432x288 with 1 Axes>"
      ]
     },
     "metadata": {
      "needs_background": "light"
     },
     "output_type": "display_data"
    }
   ],
   "source": [
    "itr=range(T)\n",
    "plt.ylabel('Loss') \n",
    "plt.xlabel('Iteration') \n",
    "plt.title(\" Pre - Trained, $\\epsilon$ = 1, Training Accuracy: 70.50% \")\n",
    "plt.plot(itr,J_history) "
   ]
  }
 ],
 "metadata": {
  "kernelspec": {
   "display_name": "Python 3 (ipykernel)",
   "language": "python",
   "name": "python3"
  },
  "language_info": {
   "codemirror_mode": {
    "name": "ipython",
    "version": 3
   },
   "file_extension": ".py",
   "mimetype": "text/x-python",
   "name": "python",
   "nbconvert_exporter": "python",
   "pygments_lexer": "ipython3",
   "version": "3.10.5"
  }
 },
 "nbformat": 4,
 "nbformat_minor": 5
}
