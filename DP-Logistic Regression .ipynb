{
 "cells": [
  {
   "cell_type": "markdown",
   "id": "48b73072",
   "metadata": {},
   "source": [
    "### Differentially Private Logistic Regression Based on Noisy Gradient Descent\n",
    "###### . In this project, we developed a differentially private logistic regression by implementing noisy gradient        descent."
   ]
  },
  {
   "cell_type": "markdown",
   "id": "b0a8b177",
   "metadata": {},
   "source": [
    "### Packages\n",
    "##### In this part we call initial packages and function."
   ]
  },
  {
   "cell_type": "code",
   "execution_count": 203,
   "id": "73e9d0b8",
   "metadata": {},
   "outputs": [],
   "source": [
    "import numpy as np\n",
    "import matplotlib.pyplot as plt\n",
    "from Func import *\n",
    "import copy\n",
    "import math\n",
    "from numpy.linalg import norm "
   ]
  },
  {
   "cell_type": "markdown",
   "id": "fae30dbe",
   "metadata": {},
   "source": [
    "### Load Training Data\n",
    "###### The hypothetical training dataset contains two medical features of 100 individuals. And labels classify individuals to high risk and low risk of developing a disease."
   ]
  },
  {
   "cell_type": "code",
   "execution_count": 204,
   "id": "6e84cd92",
   "metadata": {},
   "outputs": [],
   "source": [
    "X_train, y_train = load_data(\"data\")\n",
    "m,n = X_train.shape"
   ]
  },
  {
   "cell_type": "markdown",
   "id": "598bf17c",
   "metadata": {},
   "source": [
    "### DP Parameters"
   ]
  },
  {
   "cell_type": "code",
   "execution_count": 205,
   "id": "429119f0",
   "metadata": {},
   "outputs": [],
   "source": [
    "G=np.zeros(n)\n",
    "for i in range(n):\n",
    "    G[i]=np.amax(X_train[:,i])"
   ]
  },
  {
   "cell_type": "code",
   "execution_count": 206,
   "id": "27c5d40d",
   "metadata": {},
   "outputs": [
    {
     "data": {
      "text/plain": [
       "951.0147639592734"
      ]
     },
     "execution_count": 206,
     "metadata": {},
     "output_type": "execute_result"
    }
   ],
   "source": [
    "norm(X_train,2)\n"
   ]
  },
  {
   "cell_type": "code",
   "execution_count": 207,
   "id": "16d98b61",
   "metadata": {},
   "outputs": [
    {
     "data": {
      "text/plain": [
       "99.82785779692128"
      ]
     },
     "execution_count": 207,
     "metadata": {},
     "output_type": "execute_result"
    }
   ],
   "source": [
    "G_MAX=np.amax(G)\n",
    "G_MAX"
   ]
  },
  {
   "cell_type": "code",
   "execution_count": 208,
   "id": "54e50920",
   "metadata": {},
   "outputs": [],
   "source": [
    "epsilon=0.1\n",
    "delta=0.001\n",
    "T=100\n",
    "sigma_w=(2*G_MAX/m)*np.sqrt(2*T*np.log(1/delta))*(1/epsilon)\n",
    "sigma_b=(2*1/m)*np.sqrt(2*T*np.log(1/delta))*(1/epsilon)\n",
    "mu=0"
   ]
  },
  {
   "cell_type": "markdown",
   "id": "0066d6dd",
   "metadata": {},
   "source": [
    "### Plot training data"
   ]
  },
  {
   "cell_type": "code",
   "execution_count": 209,
   "id": "550a664e",
   "metadata": {},
   "outputs": [
    {
     "data": {
      "image/png": "[encoded data removed]",
      "text/plain": [
       "<Figure size 432x288 with 1 Axes>"
      ]
     },
     "metadata": {},
     "output_type": "display_data"
    }
   ],
   "source": [
    "plt.figure(facecolor='white')\n",
    "plot_data(X_train, y_train, pos_label=\"High Risk\", neg_label=\"Low Risk\")\n",
    "plt.ylabel('Medical Record2') \n",
    "plt.xlabel('Medical Record1') \n",
    "plt.legend(loc=\"upper right\")\n",
    "plt.show()"
   ]
  },
  {
   "cell_type": "markdown",
   "id": "f065b6c4",
   "metadata": {},
   "source": [
    "### Sigmoid Function"
   ]
  },
  {
   "cell_type": "code",
   "execution_count": 210,
   "id": "d3661ebd",
   "metadata": {},
   "outputs": [],
   "source": [
    "def sigmoid(z):\n",
    "    g = 1/(1+np.exp(-z))\n",
    "    return g"
   ]
  },
  {
   "cell_type": "markdown",
   "id": "36fe48cf",
   "metadata": {},
   "source": [
    "### Cost Function"
   ]
  },
  {
   "cell_type": "code",
   "execution_count": 211,
   "id": "1cdcd634",
   "metadata": {},
   "outputs": [],
   "source": [
    "def compute_cost(X, y, w, b, lambda_= 1):\n",
    "   \n",
    "    m,n = X_train.shape\n",
    "    loss_sum = 0\n",
    "    z_wb = 0\n",
    "\n",
    "    for i in range(m): \n",
    "        \n",
    "        z_wb = np.dot(X[i],w)\n",
    "        z_wb += b \n",
    "        f_wb= sigmoid(z_wb);\n",
    "        loss = -y[i] * np.log(f_wb) - (1 - y[i]) * np.log(1 - f_wb);\n",
    "        loss_sum += loss \n",
    "\n",
    "    total_cost = (1 / m) * loss_sum \n",
    "\n",
    "\n",
    "    return total_cost"
   ]
  },
  {
   "cell_type": "markdown",
   "id": "8e0ca999",
   "metadata": {},
   "source": [
    "### Compute Gradient"
   ]
  },
  {
   "cell_type": "code",
   "execution_count": 212,
   "id": "6e62054a",
   "metadata": {},
   "outputs": [],
   "source": [
    "def compute_gradient(X, y, w, b, lambda_=None): \n",
    "   \n",
    "    m, n = X.shape\n",
    "    dj_dw = np.zeros(w.shape)\n",
    "    dj_db = 0\n",
    "    \n",
    "    for i in range(m):\n",
    "        z_wb = 0\n",
    " \n",
    "        for j in range(n):\n",
    "            z_wb_ij = w[j]*X[i][j];\n",
    "            z_wb += z_wb_ij\n",
    "            \n",
    "        z_wb += b\n",
    "        f_wb = sigmoid(z_wb);\n",
    "        dj_db_i = f_wb - y[i]\n",
    "        dj_db += dj_db_i\n",
    "        \n",
    "        \n",
    "        for j in range(n):\n",
    "            dj_dw_ij = (f_wb - y[i])* X[i][j]\n",
    "            dj_dw[j] += dj_dw_ij\n",
    "            \n",
    "    dj_dw = dj_dw / m+ np.random.normal(mu, sigma_w)/m\n",
    "    dj_db = dj_db / m+ np.random.normal(mu, sigma_b)/m\n",
    " \n",
    "    return dj_db, dj_dw\n"
   ]
  },
  {
   "cell_type": "markdown",
   "id": "1e029b33",
   "metadata": {},
   "source": [
    "### Gradient Descent"
   ]
  },
  {
   "cell_type": "code",
   "execution_count": 213,
   "id": "535190da",
   "metadata": {},
   "outputs": [],
   "source": [
    "def gradient_descent(X, y, w_in, b_in, cost_function, gradient_function, alpha, num_iters, lambda_): \n",
    "    \n",
    "    m = len(X)\n",
    "   \n",
    "    J_history = []\n",
    "    w_history = []\n",
    "    \n",
    "    for i in range(num_iters):\n",
    "\n",
    "        dj_db, dj_dw = gradient_function(X, y, w_in, b_in, lambda_)   \n",
    "        w_in = w_in - alpha * dj_dw               \n",
    "        b_in = b_in - alpha * dj_db              \n",
    "       \n",
    "        if i<100000:     \n",
    "            cost =  cost_function(X, y, w_in, b_in, lambda_)\n",
    "            J_history.append(cost)\n",
    "\n",
    "        \n",
    "        if i% math.ceil(num_iters/10) == 0 or i == (num_iters-1):\n",
    "            w_history.append(w_in)\n",
    "            print(f\"Iteration {i:4}: Cost {float(J_history[-1]):8.2f}   \")\n",
    "\n",
    "        \n",
    "    return w_in, b_in, J_history, w_history "
   ]
  },
  {
   "cell_type": "markdown",
   "id": "db853aa7",
   "metadata": {},
   "source": [
    "### Learning The Parameters"
   ]
  },
  {
   "cell_type": "code",
   "execution_count": 214,
   "id": "374526b3",
   "metadata": {},
   "outputs": [
    {
     "name": "stdout",
     "output_type": "stream",
     "text": [
      "Iteration    0: Cost     0.74   \n",
      "Iteration   10: Cost     0.36   \n",
      "Iteration   20: Cost     0.34   \n",
      "Iteration   30: Cost     0.33   \n",
      "Iteration   40: Cost     0.31   \n",
      "Iteration   50: Cost     0.32   \n",
      "Iteration   60: Cost     0.43   \n",
      "Iteration   70: Cost     0.37   \n",
      "Iteration   80: Cost     0.31   \n",
      "Iteration   90: Cost     0.32   \n",
      "Iteration   99: Cost     0.33   \n"
     ]
    }
   ],
   "source": [
    "np.random.seed(1)\n",
    "initial_w = 0.01 * (np.random.rand(2).reshape(-1,1) - 0.5)\n",
    "initial_b = -8\n",
    "\n",
    "iterations = T\n",
    "alpha = 0.001\n",
    "w,b, J_history,_ = gradient_descent(X_train ,y_train, initial_w, initial_b,compute_cost, compute_gradient, alpha, iterations, 0)"
   ]
  },
  {
   "cell_type": "markdown",
   "id": "afb3d95b",
   "metadata": {},
   "source": [
    "## Plot Decision Boundary"
   ]
  },
  {
   "cell_type": "code",
   "execution_count": 216,
   "id": "2555f58c",
   "metadata": {},
   "outputs": [
    {
     "name": "stderr",
     "output_type": "stream",
     "text": [
      "No artists with labels found to put in legend.  Note that artists whose label start with an underscore are ignored when legend() is called with no argument.\n"
     ]
    },
    {
     "data": {
      "image/png": "[encoded data removed]",
      "text/plain": [
       "<Figure size 432x288 with 1 Axes>"
      ]
     },
     "metadata": {
      "needs_background": "light"
     },
     "output_type": "display_data"
    }
   ],
   "source": [
    "plt.legend(loc=\"upper right\")\n",
    "plot_data(X_train, y_train, pos_label=\"High Risk\", neg_label=\"Low Risk\")\n",
    "plt.ylabel('Medical Feature2') \n",
    "plt.xlabel('Medical Feature1') \n",
    "plt.legend(loc=\"upper right\")\n",
    "plt.title(\"(Iterations: 100, $\\epsilon$=0.1, Train Accuracy: 88%)\")\n",
    "\n",
    "plot_decision_boundary(w, b, X_train, y_train)\n"
   ]
  },
  {
   "cell_type": "markdown",
   "id": "45ee4079",
   "metadata": {},
   "source": [
    "### Predict Function"
   ]
  },
  {
   "cell_type": "code",
   "execution_count": 217,
   "id": "74a14094",
   "metadata": {},
   "outputs": [],
   "source": [
    "def predict(X, w, b): \n",
    "    \n",
    "   \n",
    "    m, n = X.shape   \n",
    "    p = np.zeros(m)\n",
    "   \n",
    "    for i in range(m):   \n",
    "        z_wb = 0\n",
    "    \n",
    "        for j in range(n): \n",
    "            z_wb_ij = w[j]*X[i][j]\n",
    "        \n",
    "            \n",
    "            z_wb += z_wb_ij\n",
    "        \n",
    "     \n",
    "        z_wb += b\n",
    "        \n",
    "        \n",
    "        f_wb = sigmoid(z_wb)\n",
    "\n",
    "       \n",
    "        p[i] = f_wb >= 0.5\n",
    "        \n",
    " \n",
    "    return p"
   ]
  },
  {
   "cell_type": "markdown",
   "id": "a205d9ed",
   "metadata": {},
   "source": [
    "### Compute Accuracy"
   ]
  },
  {
   "cell_type": "code",
   "execution_count": 218,
   "id": "688f3ac2",
   "metadata": {},
   "outputs": [
    {
     "name": "stdout",
     "output_type": "stream",
     "text": [
      "Train Accuracy: 88.000000\n"
     ]
    }
   ],
   "source": [
    "\n",
    "p = predict(X_train, w,b)\n",
    "print('Train Accuracy: %f'%(np.mean(p == y_train) * 100))"
   ]
  },
  {
   "cell_type": "markdown",
   "id": "c99169f6",
   "metadata": {},
   "source": [
    "### Application\n",
    "##### You can change the values \"MedicalFeature1\" and \"MesicalFeature2\" and see the result. \n",
    "##### If the result was 1, the patient is in High Risk health situation. And if the result was 0, the patient is in Low Risk health situation."
   ]
  },
  {
   "cell_type": "code",
   "execution_count": 221,
   "id": "1d077949",
   "metadata": {},
   "outputs": [
    {
     "data": {
      "text/plain": [
       "array([1.])"
      ]
     },
     "execution_count": 221,
     "metadata": {},
     "output_type": "execute_result"
    }
   ],
   "source": [
    "MedicalFeature1 = 60\n",
    "\n",
    "MedicalFeature2 = 80\n",
    "\n",
    "X=np.array([[MedicalFeature1,MedicalFeature2]])\n",
    "predict(X,w,b)"
   ]
  },
  {
   "cell_type": "code",
   "execution_count": null,
   "id": "d49e872f",
   "metadata": {},
   "outputs": [],
   "source": []
  }
 ],
 "metadata": {
  "kernelspec": {
   "display_name": "Python 3 (ipykernel)",
   "language": "python",
   "name": "python3"
  },
  "language_info": {
   "codemirror_mode": {
    "name": "ipython",
    "version": 3
   },
   "file_extension": ".py",
   "mimetype": "text/x-python",
   "name": "python",
   "nbconvert_exporter": "python",
   "pygments_lexer": "ipython3",
   "version": "3.10.5"
  }
 },
 "nbformat": 4,
 "nbformat_minor": 5
}
